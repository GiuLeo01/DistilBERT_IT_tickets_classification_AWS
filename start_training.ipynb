{
 "cells": [
  {
   "cell_type": "code",
   "execution_count": null,
   "id": "309725e3-856f-4cb5-b2f3-d1762eb76c19",
   "metadata": {},
   "outputs": [],
   "source": [
    "import pandas as pd\n",
    "import torch\n",
    "import transformers\n",
    "import sagemaker\n",
    "from sagemaker.huggingface import HuggingFace\n",
    "from sagemaker import get_execution_role\n",
    "from datetime import datetime\n",
    "from sagemaker.debugger import TensorBoardOutputConfig\n",
    "import os\n",
    "\n"
   ]
  },
  {
   "cell_type": "code",
   "execution_count": null,
   "id": "7e5b3dbe",
   "metadata": {},
   "outputs": [],
   "source": [
    "# get sagemaker execution role\n",
    "role = get_execution_role()\n",
    "session = sagemaker.Session()\n",
    "\n",
    "# create timestamp for unique job naming\n",
    "timestamp = datetime.now().strftime(\"%Y-%m-%d-%H-%M-%S\")\n",
    "s3_output_path = \"s3://your-project-bucket/logs\"\n",
    "\n",
    "# configure tensorboard logging\n",
    "tensorboard_output_config = TensorBoardOutputConfig(\n",
    "    s3_output_path=os.path.join(s3_output_path, \"tensorboard\"),\n",
    "    container_local_output_path=\"/opt/ml/output/tensorboard\"\n",
    ")"
   ]
  },
  {
   "cell_type": "code",
   "execution_count": null,
   "id": "bc23cc74",
   "metadata": {},
   "outputs": [],
   "source": [
    "\n",
    "# create huggingface estimator for distributed training\n",
    "estimator = HuggingFace(\n",
    "    entry_point='training_script.py',\n",
    "    source_dir='./',\n",
    "    role=role,\n",
    "    instance_count=1,\n",
    "    instance_type='ml.g6.xlarge',  # gpu instance for faster training\n",
    "    transformers_version='4.46',\n",
    "    pytorch_version='2.3',\n",
    "    py_version='py311',\n",
    "    output_path='s3://your-project-bucket/models/',\n",
    "    dependencies=[\"requirements.txt\"],\n",
    "    hyperparameters={\n",
    "        'epochs': 5,\n",
    "        'train_batch_size': 8,\n",
    "        'val_batch_size': 2,\n",
    "        'lr': 1e-5,  # learning rate for fine-tuning\n",
    "        'dev_run': False,\n",
    "        'max_time': \"00:01:10:00\",  # max training time\n",
    "        'timestamp': timestamp,\n",
    "    },\n",
    "    enable_sagemaker_metrics=True,\n",
    "    tensorboard_output_config=tensorboard_output_config\n",
    ")"
   ]
  },
  {
   "cell_type": "code",
   "execution_count": null,
   "id": "3cb89faa",
   "metadata": {},
   "outputs": [],
   "source": [
    "# start training job\n",
    "estimator.fit(job_name=f'distilbert-ticketsclassification-training-{timestamp}')"
   ]
  }
 ],
 "metadata": {
  "kernelspec": {
   "display_name": "Python 3 (ipykernel)",
   "language": "python",
   "name": "python3"
  },
  "language_info": {
   "codemirror_mode": {
    "name": "ipython",
    "version": 3
   },
   "file_extension": ".py",
   "mimetype": "text/x-python",
   "name": "python",
   "nbconvert_exporter": "python",
   "pygments_lexer": "ipython3",
   "version": "3.11.11"
  }
 },
 "nbformat": 4,
 "nbformat_minor": 5
}
